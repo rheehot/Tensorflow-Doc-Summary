{
 "cells": [
  {
   "cell_type": "code",
   "execution_count": 2,
   "metadata": {},
   "outputs": [
    {
     "name": "stdout",
     "output_type": "stream",
     "text": [
      "파일 다운로드 완료\n",
      "파일 unzip 완료\n",
      "공백으로 구분된 형식의 Python 사전 만든 후 토큰화 하기\n",
      "tenserflow를 이용해 LSTM 정의\n",
      "정규화를 위해 dropout 구현\n",
      "모델 완성!\n",
      "TensoeFlow로 정확도(accuracy) 계산 표현 완료\n",
      "학습 시작\n"
     ]
    },
    {
     "name": "stderr",
     "output_type": "stream",
     "text": [
      "\r",
      "  0%|                                                                                          | 0/782 [00:00<?, ?it/s]"
     ]
    },
    {
     "name": "stdout",
     "output_type": "stream",
     "text": [
      "Iter 0.0, Mini-batch Loss= 0.210463\n"
     ]
    },
    {
     "name": "stderr",
     "output_type": "stream",
     "text": [
      "  1%|▉                                                                                 | 9/782 [00:01<02:47,  4.62it/s]"
     ]
    },
    {
     "name": "stdout",
     "output_type": "stream",
     "text": [
      "Iter 10.0, Mini-batch Loss= 0.006261\n"
     ]
    },
    {
     "name": "stderr",
     "output_type": "stream",
     "text": [
      "  2%|█▉                                                                               | 19/782 [00:02<01:44,  7.28it/s]"
     ]
    },
    {
     "name": "stdout",
     "output_type": "stream",
     "text": [
      "Iter 20.0, Mini-batch Loss= 0.002778\n"
     ]
    },
    {
     "name": "stderr",
     "output_type": "stream",
     "text": [
      "  4%|███                                                                              | 29/782 [00:03<01:24,  8.91it/s]"
     ]
    },
    {
     "name": "stdout",
     "output_type": "stream",
     "text": [
      "Iter 30.0, Mini-batch Loss= 0.001738\n"
     ]
    },
    {
     "name": "stderr",
     "output_type": "stream",
     "text": [
      "  5%|████                                                                             | 39/782 [00:03<01:14, 10.01it/s]"
     ]
    },
    {
     "name": "stdout",
     "output_type": "stream",
     "text": [
      "Iter 40.0, Mini-batch Loss= 0.001250\n"
     ]
    },
    {
     "name": "stderr",
     "output_type": "stream",
     "text": [
      "  6%|█████                                                                            | 49/782 [00:04<01:08, 10.77it/s]"
     ]
    },
    {
     "name": "stdout",
     "output_type": "stream",
     "text": [
      "Iter 50.0, Mini-batch Loss= 0.000969\n"
     ]
    },
    {
     "name": "stderr",
     "output_type": "stream",
     "text": [
      "  8%|██████                                                                           | 59/782 [00:05<01:03, 11.39it/s]"
     ]
    },
    {
     "name": "stdout",
     "output_type": "stream",
     "text": [
      "Iter 60.0, Mini-batch Loss= 0.000789\n"
     ]
    },
    {
     "name": "stderr",
     "output_type": "stream",
     "text": [
      "  9%|███████▏                                                                         | 69/782 [00:05<01:00, 11.84it/s]"
     ]
    },
    {
     "name": "stdout",
     "output_type": "stream",
     "text": [
      "Iter 70.0, Mini-batch Loss= 0.000663\n"
     ]
    },
    {
     "name": "stderr",
     "output_type": "stream",
     "text": [
      " 10%|████████▏                                                                        | 79/782 [00:06<00:57, 12.21it/s]"
     ]
    },
    {
     "name": "stdout",
     "output_type": "stream",
     "text": [
      "Iter 80.0, Mini-batch Loss= 0.000571\n"
     ]
    },
    {
     "name": "stderr",
     "output_type": "stream",
     "text": [
      " 11%|█████████▏                                                                       | 89/782 [00:07<00:55, 12.47it/s]"
     ]
    },
    {
     "name": "stdout",
     "output_type": "stream",
     "text": [
      "Iter 90.0, Mini-batch Loss= 0.000501\n"
     ]
    },
    {
     "name": "stderr",
     "output_type": "stream",
     "text": [
      " 13%|██████████▎                                                                      | 99/782 [00:07<00:53, 12.74it/s]"
     ]
    },
    {
     "name": "stdout",
     "output_type": "stream",
     "text": [
      "Iter 100.0, Mini-batch Loss= 0.000446\n"
     ]
    },
    {
     "name": "stderr",
     "output_type": "stream",
     "text": [
      " 14%|███████████▏                                                                    | 109/782 [00:08<00:51, 12.95it/s]"
     ]
    },
    {
     "name": "stdout",
     "output_type": "stream",
     "text": [
      "Iter 110.0, Mini-batch Loss= 0.000401\n"
     ]
    },
    {
     "name": "stderr",
     "output_type": "stream",
     "text": [
      " 15%|████████████▏                                                                   | 119/782 [00:09<00:50, 13.12it/s]"
     ]
    },
    {
     "name": "stdout",
     "output_type": "stream",
     "text": [
      "Iter 120.0, Mini-batch Loss= 0.000365\n"
     ]
    },
    {
     "name": "stderr",
     "output_type": "stream",
     "text": [
      " 16%|█████████████▏                                                                  | 129/782 [00:09<00:49, 13.28it/s]"
     ]
    },
    {
     "name": "stdout",
     "output_type": "stream",
     "text": [
      "Iter 130.0, Mini-batch Loss= 0.000334\n"
     ]
    },
    {
     "name": "stderr",
     "output_type": "stream",
     "text": [
      " 18%|██████████████▏                                                                 | 139/782 [00:10<00:47, 13.43it/s]"
     ]
    },
    {
     "name": "stdout",
     "output_type": "stream",
     "text": [
      "Iter 140.0, Mini-batch Loss= 0.000308\n"
     ]
    },
    {
     "name": "stderr",
     "output_type": "stream",
     "text": [
      " 19%|███████████████▏                                                                | 149/782 [00:10<00:46, 13.55it/s]"
     ]
    },
    {
     "name": "stdout",
     "output_type": "stream",
     "text": [
      "Iter 150.0, Mini-batch Loss= 0.000286\n"
     ]
    },
    {
     "name": "stderr",
     "output_type": "stream",
     "text": [
      " 20%|████████████████▎                                                               | 159/782 [00:11<00:45, 13.66it/s]"
     ]
    },
    {
     "name": "stdout",
     "output_type": "stream",
     "text": [
      "Iter 160.0, Mini-batch Loss= 0.000267\n"
     ]
    },
    {
     "name": "stderr",
     "output_type": "stream",
     "text": [
      " 22%|█████████████████▎                                                              | 169/782 [00:12<00:44, 13.71it/s]"
     ]
    },
    {
     "name": "stdout",
     "output_type": "stream",
     "text": [
      "Iter 170.0, Mini-batch Loss= 0.000250\n"
     ]
    },
    {
     "name": "stderr",
     "output_type": "stream",
     "text": [
      " 23%|██████████████████▎                                                             | 179/782 [00:12<00:43, 13.79it/s]"
     ]
    },
    {
     "name": "stdout",
     "output_type": "stream",
     "text": [
      "Iter 180.0, Mini-batch Loss= 0.000236\n"
     ]
    },
    {
     "name": "stderr",
     "output_type": "stream",
     "text": [
      " 24%|███████████████████▎                                                            | 189/782 [00:13<00:42, 13.88it/s]"
     ]
    },
    {
     "name": "stdout",
     "output_type": "stream",
     "text": [
      "Iter 190.0, Mini-batch Loss= 0.000222\n"
     ]
    },
    {
     "name": "stderr",
     "output_type": "stream",
     "text": [
      " 25%|████████████████████▎                                                           | 199/782 [00:14<00:41, 13.95it/s]"
     ]
    },
    {
     "name": "stdout",
     "output_type": "stream",
     "text": [
      "Iter 200.0, Mini-batch Loss= 0.000211\n"
     ]
    },
    {
     "name": "stderr",
     "output_type": "stream",
     "text": [
      " 27%|█████████████████████▍                                                          | 209/782 [00:14<00:40, 14.04it/s]"
     ]
    },
    {
     "name": "stdout",
     "output_type": "stream",
     "text": [
      "Iter 210.0, Mini-batch Loss= 0.000200\n"
     ]
    },
    {
     "name": "stderr",
     "output_type": "stream",
     "text": [
      " 28%|██████████████████████▍                                                         | 219/782 [00:15<00:39, 14.10it/s]"
     ]
    },
    {
     "name": "stdout",
     "output_type": "stream",
     "text": [
      "Iter 220.0, Mini-batch Loss= 0.000190\n"
     ]
    },
    {
     "name": "stderr",
     "output_type": "stream",
     "text": [
      " 29%|███████████████████████▍                                                        | 229/782 [00:16<00:39, 14.14it/s]"
     ]
    },
    {
     "name": "stdout",
     "output_type": "stream",
     "text": [
      "Iter 230.0, Mini-batch Loss= 0.000182\n"
     ]
    },
    {
     "name": "stderr",
     "output_type": "stream",
     "text": [
      " 31%|████████████████████████▍                                                       | 239/782 [00:16<00:38, 14.18it/s]"
     ]
    },
    {
     "name": "stdout",
     "output_type": "stream",
     "text": [
      "Iter 240.0, Mini-batch Loss= 0.000174\n"
     ]
    },
    {
     "name": "stderr",
     "output_type": "stream",
     "text": [
      " 32%|█████████████████████████▍                                                      | 249/782 [00:17<00:37, 14.24it/s]"
     ]
    },
    {
     "name": "stdout",
     "output_type": "stream",
     "text": [
      "Iter 250.0, Mini-batch Loss= 0.000167\n"
     ]
    },
    {
     "name": "stderr",
     "output_type": "stream",
     "text": [
      " 33%|██████████████████████████▍                                                     | 259/782 [00:18<00:36, 14.28it/s]"
     ]
    },
    {
     "name": "stdout",
     "output_type": "stream",
     "text": [
      "Iter 260.0, Mini-batch Loss= 0.000160\n"
     ]
    },
    {
     "name": "stderr",
     "output_type": "stream",
     "text": [
      " 34%|███████████████████████████▌                                                    | 269/782 [00:18<00:35, 14.33it/s]"
     ]
    },
    {
     "name": "stdout",
     "output_type": "stream",
     "text": [
      "Iter 270.0, Mini-batch Loss= 0.000154\n"
     ]
    },
    {
     "name": "stderr",
     "output_type": "stream",
     "text": [
      " 36%|████████████████████████████▌                                                   | 279/782 [00:19<00:35, 14.35it/s]"
     ]
    },
    {
     "name": "stdout",
     "output_type": "stream",
     "text": [
      "Iter 280.0, Mini-batch Loss= 0.000149\n"
     ]
    },
    {
     "name": "stderr",
     "output_type": "stream",
     "text": [
      " 37%|█████████████████████████████▌                                                  | 289/782 [00:20<00:34, 14.37it/s]"
     ]
    },
    {
     "name": "stdout",
     "output_type": "stream",
     "text": [
      "Iter 290.0, Mini-batch Loss= 0.000143\n"
     ]
    },
    {
     "name": "stderr",
     "output_type": "stream",
     "text": [
      " 38%|██████████████████████████████▌                                                 | 299/782 [00:20<00:33, 14.39it/s]"
     ]
    },
    {
     "name": "stdout",
     "output_type": "stream",
     "text": [
      "Iter 300.0, Mini-batch Loss= 0.000139\n"
     ]
    },
    {
     "name": "stderr",
     "output_type": "stream",
     "text": [
      " 40%|███████████████████████████████▌                                                | 309/782 [00:21<00:32, 14.41it/s]"
     ]
    },
    {
     "name": "stdout",
     "output_type": "stream",
     "text": [
      "Iter 310.0, Mini-batch Loss= 0.000134\n"
     ]
    },
    {
     "name": "stderr",
     "output_type": "stream",
     "text": [
      " 41%|████████████████████████████████▋                                               | 319/782 [00:22<00:32, 14.42it/s]"
     ]
    },
    {
     "name": "stdout",
     "output_type": "stream",
     "text": [
      "Iter 320.0, Mini-batch Loss= 0.000130\n"
     ]
    },
    {
     "name": "stderr",
     "output_type": "stream",
     "text": [
      " 42%|█████████████████████████████████▋                                              | 329/782 [00:22<00:31, 14.45it/s]"
     ]
    },
    {
     "name": "stdout",
     "output_type": "stream",
     "text": [
      "Iter 330.0, Mini-batch Loss= 0.000126\n"
     ]
    },
    {
     "name": "stderr",
     "output_type": "stream",
     "text": [
      " 43%|██████████████████████████████████▋                                             | 339/782 [00:23<00:30, 14.46it/s]"
     ]
    },
    {
     "name": "stdout",
     "output_type": "stream",
     "text": [
      "Iter 340.0, Mini-batch Loss= 0.000122\n"
     ]
    },
    {
     "name": "stderr",
     "output_type": "stream",
     "text": [
      " 45%|███████████████████████████████████▋                                            | 349/782 [00:24<00:29, 14.46it/s]"
     ]
    },
    {
     "name": "stdout",
     "output_type": "stream",
     "text": [
      "Iter 350.0, Mini-batch Loss= 0.000119\n"
     ]
    },
    {
     "name": "stderr",
     "output_type": "stream",
     "text": [
      " 46%|████████████████████████████████████▋                                           | 359/782 [00:24<00:29, 14.48it/s]"
     ]
    },
    {
     "name": "stdout",
     "output_type": "stream",
     "text": [
      "Iter 360.0, Mini-batch Loss= 0.000116\n"
     ]
    },
    {
     "name": "stderr",
     "output_type": "stream",
     "text": [
      " 47%|█████████████████████████████████████▋                                          | 369/782 [00:25<00:28, 14.50it/s]"
     ]
    },
    {
     "name": "stdout",
     "output_type": "stream",
     "text": [
      "Iter 370.0, Mini-batch Loss= 0.000113\n"
     ]
    },
    {
     "name": "stderr",
     "output_type": "stream",
     "text": [
      " 48%|██████████████████████████████████████▊                                         | 379/782 [00:26<00:27, 14.53it/s]"
     ]
    },
    {
     "name": "stdout",
     "output_type": "stream",
     "text": [
      "Iter 380.0, Mini-batch Loss= 0.000110\n"
     ]
    },
    {
     "name": "stderr",
     "output_type": "stream",
     "text": [
      " 50%|███████████████████████████████████████▊                                        | 389/782 [00:26<00:26, 14.56it/s]"
     ]
    },
    {
     "name": "stdout",
     "output_type": "stream",
     "text": [
      "Iter 390.0, Mini-batch Loss= 0.000107\n"
     ]
    },
    {
     "name": "stderr",
     "output_type": "stream",
     "text": [
      " 51%|████████████████████████████████████████▊                                       | 399/782 [00:27<00:26, 14.59it/s]"
     ]
    },
    {
     "name": "stdout",
     "output_type": "stream",
     "text": [
      "Iter 400.0, Mini-batch Loss= 0.000104\n"
     ]
    },
    {
     "name": "stderr",
     "output_type": "stream",
     "text": [
      " 52%|█████████████████████████████████████████▊                                      | 409/782 [00:27<00:25, 14.62it/s]"
     ]
    },
    {
     "name": "stdout",
     "output_type": "stream",
     "text": [
      "Iter 410.0, Mini-batch Loss= 0.000102\n"
     ]
    },
    {
     "name": "stderr",
     "output_type": "stream",
     "text": [
      " 54%|██████████████████████████████████████████▊                                     | 419/782 [00:28<00:24, 14.64it/s]"
     ]
    },
    {
     "name": "stdout",
     "output_type": "stream",
     "text": [
      "Iter 420.0, Mini-batch Loss= 0.000100\n"
     ]
    },
    {
     "name": "stderr",
     "output_type": "stream",
     "text": [
      " 55%|███████████████████████████████████████████▉                                    | 429/782 [00:29<00:24, 14.67it/s]"
     ]
    },
    {
     "name": "stdout",
     "output_type": "stream",
     "text": [
      "Iter 430.0, Mini-batch Loss= 0.000097\n"
     ]
    },
    {
     "name": "stderr",
     "output_type": "stream",
     "text": [
      " 56%|████████████████████████████████████████████▉                                   | 439/782 [00:29<00:23, 14.69it/s]"
     ]
    },
    {
     "name": "stdout",
     "output_type": "stream",
     "text": [
      "Iter 440.0, Mini-batch Loss= 0.000095\n"
     ]
    },
    {
     "name": "stderr",
     "output_type": "stream",
     "text": [
      " 57%|█████████████████████████████████████████████▉                                  | 449/782 [00:30<00:22, 14.71it/s]"
     ]
    },
    {
     "name": "stdout",
     "output_type": "stream",
     "text": [
      "Iter 450.0, Mini-batch Loss= 0.000093\n"
     ]
    },
    {
     "name": "stderr",
     "output_type": "stream",
     "text": [
      " 59%|██████████████████████████████████████████████▉                                 | 459/782 [00:31<00:21, 14.72it/s]"
     ]
    },
    {
     "name": "stdout",
     "output_type": "stream",
     "text": [
      "Iter 460.0, Mini-batch Loss= 0.000091\n"
     ]
    },
    {
     "name": "stderr",
     "output_type": "stream",
     "text": [
      " 60%|███████████████████████████████████████████████▉                                | 469/782 [00:31<00:21, 14.74it/s]"
     ]
    },
    {
     "name": "stdout",
     "output_type": "stream",
     "text": [
      "Iter 470.0, Mini-batch Loss= 0.000090\n"
     ]
    },
    {
     "name": "stderr",
     "output_type": "stream",
     "text": [
      " 61%|█████████████████████████████████████████████████                               | 479/782 [00:32<00:20, 14.76it/s]"
     ]
    },
    {
     "name": "stdout",
     "output_type": "stream",
     "text": [
      "Iter 480.0, Mini-batch Loss= 0.000088\n"
     ]
    },
    {
     "name": "stderr",
     "output_type": "stream",
     "text": [
      " 63%|██████████████████████████████████████████████████                              | 489/782 [00:33<00:19, 14.78it/s]"
     ]
    },
    {
     "name": "stdout",
     "output_type": "stream",
     "text": [
      "Iter 490.0, Mini-batch Loss= 0.000086\n"
     ]
    },
    {
     "name": "stderr",
     "output_type": "stream",
     "text": [
      " 64%|███████████████████████████████████████████████████                             | 499/782 [00:33<00:19, 14.80it/s]"
     ]
    },
    {
     "name": "stdout",
     "output_type": "stream",
     "text": [
      "Iter 500.0, Mini-batch Loss= 0.000085\n"
     ]
    },
    {
     "name": "stderr",
     "output_type": "stream",
     "text": [
      " 65%|████████████████████████████████████████████████████                            | 509/782 [00:34<00:18, 14.82it/s]"
     ]
    },
    {
     "name": "stdout",
     "output_type": "stream",
     "text": [
      "Iter 510.0, Mini-batch Loss= 0.000083\n"
     ]
    },
    {
     "name": "stderr",
     "output_type": "stream",
     "text": [
      " 66%|█████████████████████████████████████████████████████                           | 519/782 [00:34<00:17, 14.84it/s]"
     ]
    },
    {
     "name": "stdout",
     "output_type": "stream",
     "text": [
      "Iter 520.0, Mini-batch Loss= 0.000082\n"
     ]
    },
    {
     "name": "stderr",
     "output_type": "stream",
     "text": [
      " 68%|██████████████████████████████████████████████████████                          | 529/782 [00:35<00:17, 14.85it/s]"
     ]
    },
    {
     "name": "stdout",
     "output_type": "stream",
     "text": [
      "Iter 530.0, Mini-batch Loss= 0.000080\n"
     ]
    },
    {
     "name": "stderr",
     "output_type": "stream",
     "text": [
      " 69%|███████████████████████████████████████████████████████▏                        | 539/782 [00:36<00:16, 14.87it/s]"
     ]
    },
    {
     "name": "stdout",
     "output_type": "stream",
     "text": [
      "Iter 540.0, Mini-batch Loss= 0.000079\n"
     ]
    },
    {
     "name": "stderr",
     "output_type": "stream",
     "text": [
      " 70%|████████████████████████████████████████████████████████▏                       | 549/782 [00:36<00:15, 14.89it/s]"
     ]
    },
    {
     "name": "stdout",
     "output_type": "stream",
     "text": [
      "Iter 550.0, Mini-batch Loss= 0.000077\n"
     ]
    },
    {
     "name": "stderr",
     "output_type": "stream",
     "text": [
      " 71%|█████████████████████████████████████████████████████████▏                      | 559/782 [00:37<00:14, 14.90it/s]"
     ]
    },
    {
     "name": "stdout",
     "output_type": "stream",
     "text": [
      "Iter 560.0, Mini-batch Loss= 0.000076\n"
     ]
    },
    {
     "name": "stderr",
     "output_type": "stream",
     "text": [
      " 73%|██████████████████████████████████████████████████████████▏                     | 569/782 [00:38<00:14, 14.92it/s]"
     ]
    },
    {
     "name": "stdout",
     "output_type": "stream",
     "text": [
      "Iter 570.0, Mini-batch Loss= 0.000075\n"
     ]
    },
    {
     "name": "stderr",
     "output_type": "stream",
     "text": [
      " 74%|███████████████████████████████████████████████████████████▏                    | 579/782 [00:38<00:13, 14.93it/s]"
     ]
    },
    {
     "name": "stdout",
     "output_type": "stream",
     "text": [
      "Iter 580.0, Mini-batch Loss= 0.000074\n"
     ]
    },
    {
     "name": "stderr",
     "output_type": "stream",
     "text": [
      " 75%|████████████████████████████████████████████████████████████▎                   | 589/782 [00:39<00:12, 14.94it/s]"
     ]
    },
    {
     "name": "stdout",
     "output_type": "stream",
     "text": [
      "Iter 590.0, Mini-batch Loss= 0.000073\n"
     ]
    },
    {
     "name": "stderr",
     "output_type": "stream",
     "text": [
      " 77%|█████████████████████████████████████████████████████████████▎                  | 599/782 [00:40<00:12, 14.95it/s]"
     ]
    },
    {
     "name": "stdout",
     "output_type": "stream",
     "text": [
      "Iter 600.0, Mini-batch Loss= 0.000072\n"
     ]
    },
    {
     "name": "stderr",
     "output_type": "stream",
     "text": [
      " 78%|██████████████████████████████████████████████████████████████▎                 | 609/782 [00:40<00:11, 14.95it/s]"
     ]
    },
    {
     "name": "stdout",
     "output_type": "stream",
     "text": [
      "Iter 610.0, Mini-batch Loss= 0.000071\n"
     ]
    },
    {
     "name": "stderr",
     "output_type": "stream",
     "text": [
      " 79%|███████████████████████████████████████████████████████████████▎                | 619/782 [00:41<00:10, 14.96it/s]"
     ]
    },
    {
     "name": "stdout",
     "output_type": "stream",
     "text": [
      "Iter 620.0, Mini-batch Loss= 0.000070\n"
     ]
    },
    {
     "name": "stderr",
     "output_type": "stream",
     "text": [
      " 80%|████████████████████████████████████████████████████████████████▎               | 629/782 [00:42<00:10, 14.96it/s]"
     ]
    },
    {
     "name": "stdout",
     "output_type": "stream",
     "text": [
      "Iter 630.0, Mini-batch Loss= 0.000069\n"
     ]
    },
    {
     "name": "stderr",
     "output_type": "stream",
     "text": [
      " 82%|█████████████████████████████████████████████████████████████████▎              | 639/782 [00:42<00:09, 14.96it/s]"
     ]
    },
    {
     "name": "stdout",
     "output_type": "stream",
     "text": [
      "Iter 640.0, Mini-batch Loss= 0.000068\n"
     ]
    },
    {
     "name": "stderr",
     "output_type": "stream",
     "text": [
      " 83%|██████████████████████████████████████████████████████████████████▍             | 649/782 [00:43<00:08, 14.96it/s]"
     ]
    },
    {
     "name": "stdout",
     "output_type": "stream",
     "text": [
      "Iter 650.0, Mini-batch Loss= 0.000067\n"
     ]
    },
    {
     "name": "stderr",
     "output_type": "stream",
     "text": [
      " 84%|███████████████████████████████████████████████████████████████████▍            | 659/782 [00:44<00:08, 14.97it/s]"
     ]
    },
    {
     "name": "stdout",
     "output_type": "stream",
     "text": [
      "Iter 660.0, Mini-batch Loss= 0.000066\n"
     ]
    },
    {
     "name": "stderr",
     "output_type": "stream",
     "text": [
      " 86%|████████████████████████████████████████████████████████████████████▍           | 669/782 [00:44<00:07, 14.97it/s]"
     ]
    },
    {
     "name": "stdout",
     "output_type": "stream",
     "text": [
      "Iter 670.0, Mini-batch Loss= 0.000065\n"
     ]
    },
    {
     "name": "stderr",
     "output_type": "stream",
     "text": [
      " 87%|█████████████████████████████████████████████████████████████████████▍          | 679/782 [00:45<00:06, 14.98it/s]"
     ]
    },
    {
     "name": "stdout",
     "output_type": "stream",
     "text": [
      "Iter 680.0, Mini-batch Loss= 0.000064\n"
     ]
    },
    {
     "name": "stderr",
     "output_type": "stream",
     "text": [
      " 88%|██████████████████████████████████████████████████████████████████████▍         | 689/782 [00:45<00:06, 14.99it/s]"
     ]
    },
    {
     "name": "stdout",
     "output_type": "stream",
     "text": [
      "Iter 690.0, Mini-batch Loss= 0.000064\n"
     ]
    },
    {
     "name": "stderr",
     "output_type": "stream",
     "text": [
      " 89%|███████████████████████████████████████████████████████████████████████▌        | 699/782 [00:46<00:05, 15.00it/s]"
     ]
    },
    {
     "name": "stdout",
     "output_type": "stream",
     "text": [
      "Iter 700.0, Mini-batch Loss= 0.000063\n"
     ]
    },
    {
     "name": "stderr",
     "output_type": "stream",
     "text": [
      " 91%|████████████████████████████████████████████████████████████████████████▌       | 709/782 [00:47<00:04, 15.01it/s]"
     ]
    },
    {
     "name": "stdout",
     "output_type": "stream",
     "text": [
      "Iter 710.0, Mini-batch Loss= 0.000062\n"
     ]
    },
    {
     "name": "stderr",
     "output_type": "stream",
     "text": [
      " 92%|█████████████████████████████████████████████████████████████████████████▌      | 719/782 [00:47<00:04, 15.03it/s]"
     ]
    },
    {
     "name": "stdout",
     "output_type": "stream",
     "text": [
      "Iter 720.0, Mini-batch Loss= 0.000061\n"
     ]
    },
    {
     "name": "stderr",
     "output_type": "stream",
     "text": [
      " 93%|██████████████████████████████████████████████████████████████████████████▌     | 729/782 [00:48<00:03, 15.03it/s]"
     ]
    },
    {
     "name": "stdout",
     "output_type": "stream",
     "text": [
      "Iter 730.0, Mini-batch Loss= 0.000061\n"
     ]
    },
    {
     "name": "stderr",
     "output_type": "stream",
     "text": [
      " 95%|███████████████████████████████████████████████████████████████████████████▌    | 739/782 [00:49<00:02, 15.04it/s]"
     ]
    },
    {
     "name": "stdout",
     "output_type": "stream",
     "text": [
      "Iter 740.0, Mini-batch Loss= 0.000060\n"
     ]
    },
    {
     "name": "stderr",
     "output_type": "stream",
     "text": [
      " 96%|████████████████████████████████████████████████████████████████████████████▌   | 749/782 [00:49<00:02, 15.05it/s]"
     ]
    },
    {
     "name": "stdout",
     "output_type": "stream",
     "text": [
      "Iter 750.0, Mini-batch Loss= 0.000059\n"
     ]
    },
    {
     "name": "stderr",
     "output_type": "stream",
     "text": [
      " 97%|█████████████████████████████████████████████████████████████████████████████▋  | 759/782 [00:50<00:01, 15.06it/s]"
     ]
    },
    {
     "name": "stdout",
     "output_type": "stream",
     "text": [
      "Iter 760.0, Mini-batch Loss= 0.000059\n"
     ]
    },
    {
     "name": "stderr",
     "output_type": "stream",
     "text": [
      " 98%|██████████████████████████████████████████████████████████████████████████████▋ | 769/782 [00:51<00:00, 15.07it/s]"
     ]
    },
    {
     "name": "stdout",
     "output_type": "stream",
     "text": [
      "Iter 770.0, Mini-batch Loss= 0.000058\n"
     ]
    },
    {
     "name": "stderr",
     "output_type": "stream",
     "text": [
      "100%|███████████████████████████████████████████████████████████████████████████████▋| 779/782 [00:51<00:00, 15.08it/s]"
     ]
    },
    {
     "name": "stdout",
     "output_type": "stream",
     "text": [
      "Iter 780.0, Mini-batch Loss= 0.000058\n"
     ]
    },
    {
     "name": "stderr",
     "output_type": "stream",
     "text": [
      "100%|████████████████████████████████████████████████████████████████████████████████| 782/782 [00:51<00:00, 15.07it/s]\n"
     ]
    },
    {
     "name": "stdout",
     "output_type": "stream",
     "text": [
      "Accuracy :  0.97\n",
      "학습 완료!\n",
      "\n",
      "\n",
      "\n",
      "   Label  : Positive\n",
      "Prediction: Neutral\n"
     ]
    }
   ],
   "source": [
    "import tensorflow as tf \n",
    "import numpy as np \n",
    "import matplotlib.pyplot as plt \n",
    "import matplotlib.ticker as ticker \n",
    "import urllib \n",
    "import sys \n",
    "import os \n",
    "import zipfile\n",
    "import six\n",
    "\n",
    "import inspect\n",
    "import logging\n",
    "import nose\n",
    "import shutil\n",
    "import six\n",
    "import subprocess\n",
    "import tarfile\n",
    "import tempfile\n",
    "from contextlib import closing\n",
    "from six.moves.urllib.request import urlretrieve \n",
    "\n",
    "\n",
    "glove_zip_file = \"glove.6B.zip\"\n",
    "glove_vectors_file = \"glove.6B.100d.txt\" # 훈련된 데이터\n",
    "\n",
    "snli_zip_file = \"snli_1.0.zip\" \n",
    "snli_dev_file = \"snli_1.0_dev.txt\"\n",
    "snli_full_dataset_file = \"snli_1.0_train.txt\" # dataset\n",
    "\n",
    "#862 MB \n",
    "if (not os.path.isfile(glove_zip_file) and \n",
    "    not os.path.isfile(glove_vectors_file)): \n",
    "    urlretrieve (\"http://nlp.stanford.edu/data/glove.6B.zip\", glove_zip_file)\n",
    "\n",
    "#94.6 MB \n",
    "if (not os.path.isfile(snli_zip_file) and \n",
    "    not os.path.isfile(snli_full_dataset_file)): \n",
    "    urlretrieve (\"https://nlp.stanford.edu/projects/snli/snli_1.0.zip\", snli_zip_file)\n",
    "\n",
    "print(\"파일 다운로드 완료\")    \n",
    "    \n",
    "def unzip_single_file(zip_file_name, output_file_name):\n",
    "    if not os.path.isfile(output_file_name): \n",
    "        with open(output_file_name, 'wb') as out_file: \n",
    "            with zipfile.ZipFile(zip_file_name) as zipped: \n",
    "                for info in zipped.infolist(): \n",
    "                    if output_file_name in info.filename: \n",
    "                        with zipped.open(info) as requested_file:\n",
    "                            out_file.write(requested_file.read())\n",
    "                            return\n",
    "\n",
    "unzip_single_file(glove_zip_file, glove_vectors_file) \n",
    "unzip_single_file(snli_zip_file, snli_full_dataset_file) \n",
    "\n",
    "print(\"파일 unzip 완료\")\n",
    "\n",
    "glove_wordmap = {}\n",
    "with open(glove_vectors_file, \"r\",encoding='UTF8') as glove:\n",
    "    for line in glove:\n",
    "        name, vector = tuple(line.split(\" \", 1))\n",
    "        glove_wordmap[name] = np.fromstring(vector, sep=\" \")\n",
    "\n",
    "print(\"공백으로 구분된 형식의 Python 사전 만든 후 토큰화 하기\")\n",
    "\n",
    "# sequence 만들기\n",
    "def sentence2sequence(sentence):\n",
    "    tokens = sentence.lower().split(\" \") \n",
    "    rows = [] \n",
    "    words = [] \n",
    "    #Greedy search for tokens \n",
    "    for token in tokens:\n",
    "        i = len(token) \n",
    "        while len(token) > 0 and i > 0:\n",
    "            word = token[:i] \n",
    "            if word in glove_wordmap:\n",
    "                rows.append(glove_wordmap[word])\n",
    "                words.append(word) \n",
    "                token = token[i:]\n",
    "                i = len(token)\n",
    "            else:\n",
    "                i = i-1 \n",
    "    return rows, words\n",
    "\n",
    "# RNN 이용\n",
    "run_size = 64\n",
    "rnn = tf.contrib.rnn.BasicRNNCell(run_size)\n",
    "\n",
    "\n",
    "# 네트워크 상수 정의\n",
    "max_hypothesis_length, max_evidence_length = 30, 30 \n",
    "batch_size, vector_size, hidden_size = 128, 50, 64\n",
    "\n",
    "lstm_size = hidden_size\n",
    "\n",
    "weight_decay = 0.0001\n",
    "\n",
    "learning_rate = 1\n",
    "\n",
    "input_p, output_p = 0.5, 0.5\n",
    "\n",
    "training_iterations_count = 100000\n",
    "\n",
    "display_step = 10\n",
    "\n",
    "\n",
    "\n",
    "def score_setup(row): # 점수를 세팅한다.\n",
    "    convert_dict = {\n",
    "        'entailment': 0, #긍정\n",
    "        'neutral': 1,    #중립\n",
    "        'contradiction': 2 #부정\n",
    "    }\n",
    "    score = np.zeros((3,))\n",
    "    for x in range(1,6):\n",
    "        tag = row[\"label\"+str(x)]\n",
    "        if tag in convert_dict: score[convert_dict[tag]] += 1 \n",
    "    return score / (1.0*np.sum(score))\n",
    "\n",
    "def fit_to_size(matrix, shape): #알맞은 사이즈로\n",
    "    res = np.zeros(shape)\n",
    "    slices = [slice(0, min(dim, shape[e])) for e, dim in enumerate(matrix.shape)]\n",
    "    res[slices] = matrix[slices] \n",
    "    return res\n",
    "\n",
    "def split_data_into_scores(): # (가설, 증거), 정답, 점수 반환\n",
    "    import csv \n",
    "    with open(snli_full_dataset_file,\"r\") as data:\n",
    "        train = csv.DictReader(data, delimiter='\\t') \n",
    "        evi_sentences = [] \n",
    "        hyp_sentences = [] \n",
    "        labels = [] \n",
    "        scores = [] \n",
    "        for row in train: \n",
    "            hyp_sentences.append(np.vstack(\n",
    "                sentence2sequence (row[\"sentence1\"].lower())[0]))\n",
    "            evi_sentences.append(np.vstack(\n",
    "                sentence2sequence(row[\"sentence2\"].lower())[0]))\n",
    "            labels.append(row[\"gold_label\"])\n",
    "            scores.append(score_setup(row))\n",
    "            \n",
    "            hyp_sentences = np.stack([fit_to_size(x, (max_hypothesis_length, vector_size)) \n",
    "                                      for x in hyp_sentences]) \n",
    "            evi_sentences = np.stack([fit_to_size(x, (max_evidence_length, vector_size)) \n",
    "                                      for x in evi_sentences])\n",
    "            \n",
    "            return (hyp_sentences, evi_sentences), labels, np.array(scores)\n",
    "        \n",
    "data_feature_list, correct_values, correct_scores = split_data_into_scores()\n",
    "\n",
    "l_h, l_e = max_hypothesis_length, max_evidence_length\n",
    "N, D, H = batch_size, vector_size, hidden_size \n",
    "l_seq = l_h + l_e\n",
    "\n",
    "\n",
    "tf.reset_default_graph()\n",
    "\n",
    "lstm = tf.contrib.rnn.BasicLSTMCell(lstm_size)\n",
    "\n",
    "print(\"tenserflow를 이용해 LSTM 정의\")\n",
    "\n",
    "lstm_drop = tf.contrib.rnn.DropoutWrapper(lstm, input_p, output_p)\n",
    "\n",
    "print(\"정규화를 위해 dropout 구현\")\n",
    "\n",
    "\n",
    "# N   : 데이터 하위 집합을 훈련하는데 사용하는 각 batch 요소 수\n",
    "# 1_h : 가설의 최대 길이 또는 요소 수\n",
    "# 1_e : 증거의 최대 길이\n",
    "\n",
    "hyp = tf.placeholder(tf.float32, [N, l_h, D], 'hypothesis') # 트레이닝 중 가설\n",
    "evi = tf.placeholder(tf.float32, [N, l_e, D], 'evidence')   # 트레이닝 중 증거\n",
    "y = tf.placeholder(tf.float32, [N, 3], 'label') # 트레이닝 중 정답\n",
    "\n",
    "lstm_back = tf.contrib.rnn.BasicRNNCell(lstm_size)\n",
    "\n",
    "lstm_drop_back = tf.contrib.rnn.DropoutWrapper(lstm_back, input_p, output_p)\n",
    "\n",
    "fc_initializer = tf.random_normal_initializer(stddev=0.1)\n",
    "\n",
    "fc_weight = tf.get_variable('fc_weight', [2 * hidden_size, 3], initializer = fc_initializer)\n",
    "\n",
    "fc_bias = tf.get_variable('bias', [3])\n",
    "\n",
    "\n",
    "tf.add_to_collection(tf.GraphKeys.REGULARIZATION_LOSSES, tf.nn.l2_loss(fc_weight))\n",
    "\n",
    "x = tf.concat([hyp, evi], 1)\n",
    "x = tf.transpose(x, [1, 0, 2])\n",
    "x = tf.reshape(x, [-1, vector_size])\n",
    "x = tf.split(x, l_seq,)\n",
    "\n",
    "# rnn outputs 생성!  -1은 최신 출력\n",
    "rnn_outputs, _, _ = tf.contrib.rnn.static_bidirectional_rnn(lstm, lstm_back, x, dtype=tf.float32)\n",
    "\n",
    "classification_scores = tf.matmul(rnn_outputs[-1], fc_weight) + fc_bias # 분류 점수!\n",
    "# 0: 긍정\n",
    "# 1: 중립\n",
    "# 2: 부정\n",
    "\n",
    "print(\"모델 완성!\")\n",
    "\n",
    "with tf.variable_scope('Accuracy'):\n",
    "    predicts = tf.cast(tf.argmax(classification_scores, 1), dtype=tf.int32)\n",
    "    y_label = tf.cast(tf.argmax(y, 1), dtype=tf.int32)\n",
    "    corrects = tf.equal(predicts, y_label)\n",
    "    num_corrects = tf.reduce_sum(tf.cast(corrects, dtype=tf.float32))\n",
    "    accuracy = tf.reduce_mean(tf.cast(corrects, dtype=tf.float32))\n",
    "    \n",
    "with tf.variable_scope(\"loss\"):  #full batch는 너무 오래 걸리므로 mini-batch 사용!\n",
    "    cross_entropy = tf.nn.softmax_cross_entropy_with_logits(\n",
    "        logits = classification_scores, labels = y) \n",
    "    loss = tf.reduce_mean(cross_entropy) \n",
    "    total_loss = loss + weight_decay * tf.add_n( tf.get_collection(tf.GraphKeys.REGULARIZATION_LOSSES))\n",
    "\n",
    "optimizer = tf.train.GradientDescentOptimizer(learning_rate)\n",
    "opt_op = optimizer.minimize(total_loss)\n",
    "\n",
    "print(\"TensoeFlow로 정확도(accuracy) 계산 표현 완료\")\n",
    "\n",
    "print(\"학습 시작\")\n",
    "\n",
    "init = tf.global_variables_initializer()\n",
    "\n",
    "# tqdm을 이용해 진행사항을 추적해줌!\n",
    "tqdm_installed = False \n",
    "try:\n",
    "    from tqdm import tqdm\n",
    "    tqdm_installed = True \n",
    "except:\n",
    "    pass\n",
    "\n",
    "# Launch the Tensorflow session \n",
    "\n",
    "sess = tf.Session() \n",
    "sess.run(init)\n",
    "\n",
    "training_iterations = range(0, training_iterations_count, batch_size)\n",
    "\n",
    "if tqdm_installed:\n",
    "    training_iterations = tqdm(training_iterations)\n",
    "\n",
    "for i in training_iterations:\n",
    "    batch = np.random.randint(data_feature_list[0].shape[0], size=batch_size)\n",
    "\n",
    "    hyps, evis, ys = (data_feature_list[0][batch, :], \n",
    "                      data_feature_list[1][batch, :], \n",
    "                      correct_scores[batch])\n",
    "    \n",
    "    sess.run([opt_op], feed_dict={hyp: hyps, evi: evis, y: ys}) # 훈련!\n",
    "    \n",
    "    # 추적!\n",
    "    if (i / batch_size) % display_step == 0:\n",
    "        #acc = sess.run(accuracy, feed_dict={hyp: hyps, evi: evis, y: ys})\n",
    "        tmp_loss = sess.run(loss, feed_dict={hyp: hyps, evi: evis, y: ys}) \n",
    "        print(\"Iter \" + str(i/batch_size) + \", Mini-batch Loss= \" + \\\n",
    "          \"{:.6f}\".format(tmp_loss))\n",
    "\n",
    "acc = sess.run(accuracy, feed_dict={hyp: hyps, evi: evis, y: ys})\n",
    "print(\"Accuracy : \", acc)\n",
    "\n",
    "print(\"학습 완료!\")\n",
    "print()\n",
    "print()\n",
    "print()\n",
    "\n",
    "# 검증!\n",
    "\n",
    "evidences = [\"Maurita and Jade both were at the scene of the car crash.\"]\n",
    "hypotheses = [\"Multiple people saw the accident.\"]\n",
    "\n",
    "sentence1 = [fit_to_size(np.vstack(sentence2sequence (evidence)[0]),\n",
    "                         (30, 50)) for evidence in evidences]\n",
    "sentence2 = [fit_to_size(np.vstack(sentence2sequence (hypothesis)[0]),\n",
    "                         (30, 50)) for hypothesis in hypotheses]\n",
    "\n",
    "prediction = sess.run(classification_scores, feed_dict={ hyp: (sentence1 * N),\n",
    "                                                         evi: (sentence2 * N),\n",
    "                                                         y: [[0,0,0]]*N})\n",
    "\n",
    "label = sess.run(y, feed_dict={ hyp: (sentence1 * N),\n",
    "                                evi: (sentence2 * N),\n",
    "                                y: [[0,0,0]]*N})\n",
    "\n",
    "print(\"   Label  : \" + [\"Positive\", \"Neutral\", \"Negative\"][np.argmax (label[0])])\n",
    "print(\"Prediction: \" + [\"Positive\", \"Neutral\", \"Negative\"][np.argmax (prediction[0])])\n",
    "\n",
    "sess.close()\n"
   ]
  },
  {
   "cell_type": "code",
   "execution_count": 92,
   "metadata": {},
   "outputs": [
    {
     "name": "stdout",
     "output_type": "stream",
     "text": [
      "   Label  : Positive\n",
      "Prediction: Positive\n"
     ]
    }
   ],
   "source": [
    "\n",
    "sess = tf.Session() \n",
    "sess.run(init)\n",
    "\n",
    "evidences = [\"Maurita and Jade both were at the scene of the car crash.\"]\n",
    "hypotheses = [\"Multiple people saw the accident.\"]\n",
    "\n",
    "sentence1 = [fit_to_size(np.vstack(sentence2sequence (evidence)[0]),\n",
    "                         (30, 50)) for evidence in evidences]\n",
    "sentence2 = [fit_to_size(np.vstack(sentence2sequence (hypothesis)[0]),\n",
    "                         (30, 50)) for hypothesis in hypotheses]\n",
    "\n",
    "prediction = sess.run(classification_scores, feed_dict={ hyp: (sentence1 * N),\n",
    "                                                         evi: (sentence2 * N),\n",
    "                                                         y: [[0,0,0]]*N})\n",
    "\n",
    "label = sess.run(y, feed_dict={ hyp: (sentence1 * N),\n",
    "                                evi: (sentence2 * N),\n",
    "                                y: [[0,0,0]]*N})\n",
    "\n",
    "print(\"   Label  : \" + [\"Positive\", \"Neutral\", \"Negative\"][np.argmax (label[0])])\n",
    "print(\"Prediction: \" + [\"Positive\", \"Neutral\", \"Negative\"][np.argmax (prediction[0])])\n",
    "\n",
    "sess.close()\n"
   ]
  },
  {
   "cell_type": "code",
   "execution_count": null,
   "metadata": {},
   "outputs": [],
   "source": []
  }
 ],
 "metadata": {
  "kernelspec": {
   "display_name": "Python 3",
   "language": "python",
   "name": "python3"
  },
  "language_info": {
   "codemirror_mode": {
    "name": "ipython",
    "version": 3
   },
   "file_extension": ".py",
   "mimetype": "text/x-python",
   "name": "python",
   "nbconvert_exporter": "python",
   "pygments_lexer": "ipython3",
   "version": "3.6.5"
  }
 },
 "nbformat": 4,
 "nbformat_minor": 2
}
